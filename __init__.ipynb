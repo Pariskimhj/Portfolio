{
 "cells": [
  {
   "cell_type": "code",
   "execution_count": null,
   "id": "b8b31a9d",
   "metadata": {},
   "outputs": [],
   "source": [
    "# from test_package import *\"로\n",
    "# 모듈을 읽어 들일 때 가져올 모듈\n",
    "__all__ = [\"module_a\", \"module_b\"]\n",
    "\n",
    "# 패키지를 읽어 들일 때 처리를 작성할 수도 있습니다.\n",
    "print(\"test_package를 읽어 들였습니다.\")"
   ]
  }
 ],
 "metadata": {
  "kernelspec": {
   "display_name": "Python 3 (ipykernel)",
   "language": "python",
   "name": "python3"
  },
  "language_info": {
   "codemirror_mode": {
    "name": "ipython",
    "version": 3
   },
   "file_extension": ".py",
   "mimetype": "text/x-python",
   "name": "python",
   "nbconvert_exporter": "python",
   "pygments_lexer": "ipython3",
   "version": "3.9.7"
  }
 },
 "nbformat": 4,
 "nbformat_minor": 5
}
