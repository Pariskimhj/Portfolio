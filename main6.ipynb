{
 "cells": [
  {
   "cell_type": "code",
   "execution_count": 2,
   "id": "8741c512",
   "metadata": {},
   "outputs": [
    {
     "name": "stdout",
     "output_type": "stream",
     "text": [
      "test_package를 읽어 들였습니다.\n",
      "a 모듈의 변수\n",
      "b 모듈의 변수\n"
     ]
    }
   ],
   "source": [
    "# 패키지 내부의 모듈을 모두 읽어 들입니다.\n",
    "from module_package import *\n",
    "\n",
    "# 모듈 내부의 변수를 출력합니다.\n",
    "print(module_a.variable_a)\n",
    "print(module_b.variable_b)"
   ]
  }
 ],
 "metadata": {
  "kernelspec": {
   "display_name": "Python 3 (ipykernel)",
   "language": "python",
   "name": "python3"
  },
  "language_info": {
   "codemirror_mode": {
    "name": "ipython",
    "version": 3
   },
   "file_extension": ".py",
   "mimetype": "text/x-python",
   "name": "python",
   "nbconvert_exporter": "python",
   "pygments_lexer": "ipython3",
   "version": "3.9.7"
  }
 },
 "nbformat": 4,
 "nbformat_minor": 5
}
